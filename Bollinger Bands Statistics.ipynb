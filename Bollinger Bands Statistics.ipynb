{
 "cells": [
  {
   "cell_type": "code",
   "execution_count": null,
   "metadata": {},
   "outputs": [],
   "source": [
    "import pandas as pd\n",
    "import numpy as np\n",
    "import matplotlib.pyplot as plt"
   ]
  },
  {
   "cell_type": "code",
   "execution_count": null,
   "metadata": {},
   "outputs": [],
   "source": [
    "key = \"ENTER_YOUR_KEY\""
   ]
  },
  {
   "cell_type": "code",
   "execution_count": null,
   "metadata": {},
   "outputs": [],
   "source": [
    "def load_data(sym=\"EUR\", to_sym=\"USD\", interval=\"5min\", dtype=2, intraday=False, outputsize=\"full\"):\n",
    "    if dtype == 1: # Download stock\n",
    "        if intraday:\n",
    "            url = \"https://www.alphavantage.co/query?function=TIME_SERIES_INTRADAY&interval={}&symbol={}&apikey={}&datatype=csv&outputsize={}\".format(interval, sym, key, outputsize)\n",
    "        else:\n",
    "            url = \"https://www.alphavantage.co/query?function=TIME_SERIES_DAILY&symbol={}&apikey={}&datatype=csv&outputsize={}\".format(sym, key, outputsize)\n",
    "    elif dtype == 2: # Download forex\n",
    "        print(\"FX\")\n",
    "        if intraday:\n",
    "            url = \"https://www.alphavantage.co/query?function=FX_INTRADAY&interval={}&from_symbol={}&to_symbol={}&apikey={}&datatype=csv&outputsize={}\".format(interval, sym, to_sym, key, outputsize)\n",
    "        else:\n",
    "            url = \"https://www.alphavantage.co/query?function=FX_DAILY&from_symbol={}&to_symbol={}&apikey={}&datatype=csv&outputsize={}\".format(sym, to_sym, key, outputsize)\n",
    "    elif dtype == 3: # Download Crypto\n",
    "        url = \"https://www.alphavantage.co/query?function=DIGITAL_CURRENCY_DAILY&symbol={}&market={}&apikey={}&datatype=csv&outputsize={}\".format(sym, to_sym, key, outputsize)\n",
    "    print(\"Downloading\", url)\n",
    "    print(\"---\")\n",
    "    df = pd.read_csv(url)\n",
    "\n",
    "    # rename columns\n",
    "    if dtype == 3:\n",
    "        df.rename(columns={'timestamp': 'Date', 'open (USD)': 'Open', 'high (USD)': 'High', 'low (USD)': 'Low', 'close (USD)': 'Close', 'volume': 'Volume'}, inplace=True)\n",
    "    else:\n",
    "        df.rename(columns={'timestamp': 'Date', 'open': 'Open', 'high': 'High', 'low': 'Low', 'close': 'Close', 'volume': 'Volume'}, inplace=True)\n",
    "    df.sort_values(by=\"Date\", ascending=True, inplace=True)\n",
    "    print(\"Data loaded:\", len(df), \"rows\")\n",
    "    return df"
   ]
  },
  {
   "cell_type": "code",
   "execution_count": null,
   "metadata": {},
   "outputs": [],
   "source": [
    "def plot_candles(df, lines=100):\n",
    "    df['Bar'] = df['High'] - df['Low']\n",
    "    df['Body'] = abs(df['Close'] - df['Open'])\n",
    "    df['Up'] = df['Close'] > df['Open']\n",
    "    df['Color'] = np.where(df['Up'], \"g\", \"r\")\n",
    "    if lines > 0:\n",
    "        db = df[-lines:].reset_index(drop=True).reset_index()\n",
    "    else:\n",
    "        db = df.reset_index(drop=True).reset_index()\n",
    "    plt.figure(figsize=(15, 10))\n",
    "    plt.bar(db['index'], bottom=db['Low'], height=db['Bar'], color=\"#000000\", width=0.2)\n",
    "    plt.bar(db['index'], bottom=np.where(db['Up'], db['Open'], db['Close']), height=db['Body'], color=db['Color'], width=0.9)\n",
    "    plt.plot(db['OVB'], color=\"b\", linewidth=0.25)\n",
    "    plt.plot(db['OVS'], color=\"b\", linewidth=0.25)\n",
    "    plt.show()"
   ]
  },
  {
   "cell_type": "code",
   "execution_count": null,
   "metadata": {},
   "outputs": [],
   "source": [
    "def get_stats(df, high_col=\"Close\", low_col=\"Close\", high_dev=\"OVB\", low_dev=\"OVS\", dev=2):\n",
    "    total = len(df)\n",
    "    inside = len(df[(df[high_col]<=df[high_dev]) & (df[low_col]>=df[low_dev])])\n",
    "    upside = len(df[df[high_col]>=df[high_dev]])\n",
    "    downside = len(df[df[low_col]<=df[low_dev]])\n",
    "    i = np.round(inside / total * 100, 2)\n",
    "    u = np.round(upside / total * 100, 2)\n",
    "    d = np.round(downside / total * 100, 2)\n",
    "    # Print the stats\n",
    "    print(\"Total bars:\", total)\n",
    "    print(\"Deviation\", dev)\n",
    "    print(\"Inside: \", i, \"%\", sep=\"\")\n",
    "    print(\"Up side: \", u, \"%\", sep=\"\")\n",
    "    print(\"Down side: \", d, \"%\", sep=\"\")"
   ]
  },
  {
   "cell_type": "code",
   "execution_count": null,
   "metadata": {},
   "outputs": [],
   "source": [
    "def add_bb(df, dev=2, lb=20, col=\"Close\", lines=100):\n",
    "    df['MA'] = df[col].rolling(lb).mean()\n",
    "    df['STD'] = df[col].rolling(lb).std()\n",
    "    df['OVB'] = df['MA'] + df['STD'] * dev\n",
    "    df['OVS'] = df['MA'] - df['STD'] * dev\n",
    "    plot_candles(df, lines=lines)\n",
    "    get_stats(df, dev=dev)"
   ]
  },
  {
   "cell_type": "code",
   "execution_count": null,
   "metadata": {},
   "outputs": [],
   "source": [
    "# Options\n",
    "sym = \"EUR\"\n",
    "to_sym = \"USD\"\n",
    "interval = \"5min\"\n",
    "intraday = False\n",
    "dtype = 2 # 1: stock 2: fx 3: crypto"
   ]
  },
  {
   "cell_type": "code",
   "execution_count": null,
   "metadata": {},
   "outputs": [],
   "source": [
    "# load data\n",
    "df = load_data(sym, to_sym, interval, dtype, intraday)"
   ]
  },
  {
   "cell_type": "code",
   "execution_count": null,
   "metadata": {},
   "outputs": [],
   "source": [
    "df['Close'].plot(figsize=(15, 10))"
   ]
  },
  {
   "cell_type": "code",
   "execution_count": null,
   "metadata": {},
   "outputs": [],
   "source": [
    "dev = 2 # standard deviation\n",
    "lb = 20 # simple moving average of last 20 bars including the final bar\n",
    "lines = 500 # plot last 500 bars only\n",
    "add_bb(df, dev=dev, lb=lb, lines=lines)"
   ]
  }
 ],
 "metadata": {
  "kernelspec": {
   "display_name": "Python 3",
   "language": "python",
   "name": "python3"
  },
  "language_info": {
   "codemirror_mode": {
    "name": "ipython",
    "version": 3
   },
   "file_extension": ".py",
   "mimetype": "text/x-python",
   "name": "python",
   "nbconvert_exporter": "python",
   "pygments_lexer": "ipython3",
   "version": "3.6.4"
  }
 },
 "nbformat": 4,
 "nbformat_minor": 2
}
